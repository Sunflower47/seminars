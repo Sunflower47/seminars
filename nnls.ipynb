{
 "cells": [
  {
   "cell_type": "code",
   "execution_count": 1,
   "metadata": {},
   "outputs": [],
   "source": [
    "%matplotlib inline\n",
    "import matplotlib.pyplot as plt\n",
    "import numpy as np\n",
    "from collections import namedtuple"
   ]
  },
  {
   "cell_type": "markdown",
   "metadata": {},
   "source": [
    "## Литература\n",
    "* "
   ]
  },
  {
   "cell_type": "code",
   "execution_count": 2,
   "metadata": {},
   "outputs": [],
   "source": [
    "A = np.random.rand(5, 2)\n",
    "b = np.random.rand(5)\n",
    "\n",
    "Result = namedtuple('Result', ('x', 'fun', 'grad'))"
   ]
  },
  {
   "cell_type": "code",
   "execution_count": 5,
   "metadata": {},
   "outputs": [],
   "source": [
    "class NNLS:\n",
    "    def __init__(self, A, b):\n",
    "        self.A = np.asarray(A)\n",
    "        self.b = np.asarray(b)\n",
    "        self._x = np.zeros(A.shape[1])\n",
    "        self.P = np.zeros_like(self._x, dtype=bool)\n",
    "        self.w = np.empty_like(self._x)\n",
    "        self.recalc_w = True\n",
    "        self.t = None\n",
    "    \n",
    "    def loss(self, x):\n",
    "        return np.linalg.norm(self.A @ x - self.b)**2\n",
    "    \n",
    "    def result(self):\n",
    "        return Result(self.x, self.loss(self.x), self.w)\n",
    "    \n",
    "    @staticmethod\n",
    "    def argmax_index(x, idx):\n",
    "        i = np.argmax(x[idx])\n",
    "        return np.arange(x.size)[idx][i]\n",
    "    \n",
    "    def solve(self):\n",
    "        if self.recalc_w:\n",
    "            self.w[:] = self.negative_grad(self.x)\n",
    "        # -------------------v\n",
    "        if np.all(self.w <= 1e-8) or np.all(self.P):\n",
    "        # -------------------^\n",
    "            return self.result()\n",
    "        self.t = self.argmax_index(self.w, self.Z)\n",
    "        self.P[self.t] = True\n",
    "        self.inner_solve()\n",
    "        return self.solve()\n",
    "\n",
    "    def inner_solve(self):\n",
    "        z = np.zeros_like(self.x)\n",
    "        z[self.P] = np.linalg.lstsq(self.A[:, self.P], self.b)[0]\n",
    "        if z[self.t] <= 0:\n",
    "            self.w[self.t] = 0\n",
    "            self.recalc_w = False\n",
    "            return\n",
    "        else:\n",
    "            self.recalc_w = True\n",
    "        if np.all(z[self.P] > 0):\n",
    "            self.x = z\n",
    "            return\n",
    "        i_z_nonpos = (z <= 0) & self.P\n",
    "        alpha = np.min(self.x[i_z_nonpos] / (self.x[i_z_nonpos] - z[i_z_nonpos]))\n",
    "        self.x = self.x + alpha * (z - self.x)\n",
    "        self.inner_solve()\n",
    "    \n",
    "    def negative_grad(self, x):\n",
    "        return self.A.T @ (self.b - self.A @ x)\n",
    "    \n",
    "    @property\n",
    "    def x(self):\n",
    "        return self._x\n",
    "    \n",
    "    @x.setter\n",
    "    def x(self, v):\n",
    "        self._x[:] = v\n",
    "        self._x[self._x <= 0] = 0\n",
    "        self.P[self._x == 0] = False\n",
    "    \n",
    "    @property\n",
    "    def Z(self):\n",
    "        return ~self.P"
   ]
  },
  {
   "cell_type": "code",
   "execution_count": 6,
   "metadata": {},
   "outputs": [
    {
     "name": "stdout",
     "output_type": "stream",
     "text": [
      "[[0.57656513 0.98940921]\n",
      " [0.09357157 0.56663701]\n",
      " [0.2432718  0.90527938]\n",
      " [0.89113221 0.8630906 ]\n",
      " [0.83112185 0.6651435 ]]\n",
      "[0.06130424 0.3911546  0.19115644 0.02317265 0.52650439]\n",
      "############## [0.07718428 0.19909836]\n",
      "Result(x=array([0.07718428, 0.19909836]), fun=0.26216803846882375, grad=array([-2.22044605e-16, -1.66533454e-16]))\n"
     ]
    },
    {
     "name": "stderr",
     "output_type": "stream",
     "text": [
      "/usr/local/lib/python3.7/site-packages/ipykernel_launcher.py:3: FutureWarning: `rcond` parameter will change to the default of machine precision times ``max(M, N)`` where M and N are the input matrix dimensions.\n",
      "To use the future default and silence this warning we advise to pass `rcond=None`, to keep using the old, explicitly pass `rcond=-1`.\n",
      "  This is separate from the ipykernel package so we can avoid doing imports until\n",
      "/usr/local/lib/python3.7/site-packages/ipykernel_launcher.py:36: FutureWarning: `rcond` parameter will change to the default of machine precision times ``max(M, N)`` where M and N are the input matrix dimensions.\n",
      "To use the future default and silence this warning we advise to pass `rcond=None`, to keep using the old, explicitly pass `rcond=-1`.\n"
     ]
    }
   ],
   "source": [
    "print(A)\n",
    "print(b)\n",
    "print('##############', np.linalg.lstsq(A, b)[0])\n",
    "n = NNLS(A, b)\n",
    "print(n.solve())"
   ]
  },
  {
   "cell_type": "code",
   "execution_count": 7,
   "metadata": {
    "scrolled": false
   },
   "outputs": [
    {
     "name": "stderr",
     "output_type": "stream",
     "text": [
      "/usr/local/lib/python3.7/site-packages/ipykernel_launcher.py:36: FutureWarning: `rcond` parameter will change to the default of machine precision times ``max(M, N)`` where M and N are the input matrix dimensions.\n",
      "To use the future default and silence this warning we advise to pass `rcond=None`, to keep using the old, explicitly pass `rcond=-1`.\n"
     ]
    },
    {
     "data": {
      "image/png": "[encoded data removed]",
      "text/plain": [
       "<Figure size 432x288 with 1 Axes>"
      ]
     },
     "metadata": {},
     "output_type": "display_data"
    },
    {
     "data": {
      "image/png": "[encoded data removed]",
      "text/plain": [
       "<Figure size 432x288 with 1 Axes>"
      ]
     },
     "metadata": {},
     "output_type": "display_data"
    },
    {
     "data": {
      "image/png": "[encoded data removed]",
      "text/plain": [
       "<Figure size 432x288 with 1 Axes>"
      ]
     },
     "metadata": {},
     "output_type": "display_data"
    },
    {
     "data": {
      "image/png": "[encoded data removed]",
      "text/plain": [
       "<Figure size 432x288 with 1 Axes>"
      ]
     },
     "metadata": {},
     "output_type": "display_data"
    },
    {
     "data": {
      "image/png": "[encoded data removed]",
      "text/plain": [
       "<Figure size 432x288 with 1 Axes>"
      ]
     },
     "metadata": {},
     "output_type": "display_data"
    }
   ],
   "source": [
    "import matplotlib.pyplot as plt\n",
    "from PIL import Image\n",
    "from scipy.ndimage import convolve\n",
    "\n",
    "\n",
    "def show_img(array, title=''):\n",
    "    plt.figure()\n",
    "    plt.title(title)\n",
    "    plt.imshow(array)\n",
    "\n",
    "\n",
    "kernel_size = 11\n",
    "sigma = 3\n",
    "x, y = np.indices((kernel_size, kernel_size)) - kernel_size // 2\n",
    "kernel = np.exp(-(x**2 + y**2) / (2 * sigma**2))\n",
    "show_img(kernel, 'kernel')\n",
    "source = np.zeros((100, 100))\n",
    "source[np.diag_indices(source.shape[0])] = np.arange(source.shape[0]) + 2\n",
    "source[0, -1] = 3\n",
    "# source = np.array(Image.open('casa.png'), dtype=np.float)[::2, ::2]\n",
    "show_img(source, 'source')\n",
    "convolved = convolve(source, kernel)\n",
    "show_img(convolved, 'convolved')\n",
    "noised = convolved + 2 - 4 * np.random.rand(*source.shape)\n",
    "show_img(noised, 'noised')\n",
    "a = np.zeros(convolved.shape + source.shape)\n",
    "for convolved_idx in np.ndindex(convolved.shape):\n",
    "    for kernel_idx in np.ndindex(kernel.shape):\n",
    "        k_idx = tuple(x - size // 2 for size, x in zip(kernel.shape, kernel_idx))\n",
    "        source_idx = tuple(x + y for x, y in zip(convolved_idx, k_idx))\n",
    "        if ((source_idx[0] < 0)\n",
    "            or (source_idx[1] < 0)\n",
    "            or (source_idx[0] >= source.shape[0])\n",
    "            or (source_idx[1] >= source.shape[1])):\n",
    "            continue\n",
    "        a[convolved_idx + source_idx] = kernel[kernel_idx]\n",
    "a = a.reshape(convolved.size, source.size)\n",
    "# print(a)\n",
    "b = convolved.reshape(-1)\n",
    "n = NNLS(a, b)\n",
    "result = n.solve()\n",
    "# print(result.x.reshape(source.shape))\n",
    "show_img(result.x.reshape(source.shape), 'reconstructed')"
   ]
  },
  {
   "cell_type": "code",
   "execution_count": null,
   "metadata": {},
   "outputs": [],
   "source": []
  }
 ],
 "metadata": {
  "kernelspec": {
   "display_name": "Python 3",
   "language": "python",
   "name": "python3"
  },
  "language_info": {
   "codemirror_mode": {
    "name": "ipython",
    "version": 3
   },
   "file_extension": ".py",
   "mimetype": "text/x-python",
   "name": "python",
   "nbconvert_exporter": "python",
   "pygments_lexer": "ipython3",
   "version": "3.6.5"
  }
 },
 "nbformat": 4,
 "nbformat_minor": 2
}
